{
 "cells": [
  {
   "cell_type": "markdown",
   "metadata": {},
   "source": [
    "> 作者：Robert Cimrman"
   ]
  },
  {
   "cell_type": "code",
   "execution_count": 1,
   "metadata": {
    "collapsed": false
   },
   "outputs": [],
   "source": [
    "%matplotlib inline\n",
    "import numpy as np"
   ]
  },
  {
   "cell_type": "markdown",
   "metadata": {},
   "source": [
    "## 2.5.1 介绍\n",
    "\n",
    "(密集) 矩阵是:\n",
    "- 数据对象\n",
    "- 存储二维值数组的数据结构\n",
    "\n",
    "重要特征:\n",
    "- 一次分配所有项目的内存\n",
    "    - 通常是一个连续组块，想一想Numpy数组\n",
    "- *快速*访问个项目(*)\n",
    "\n",
    "### 2.5.1.1 为什么有稀疏矩阵？\n",
    "\n",
    "- 内存，增长是n**2\n",
    "- 小例子（双精度矩阵）:"
   ]
  },
  {
   "cell_type": "code",
   "execution_count": 2,
   "metadata": {
    "collapsed": false
   },
   "outputs": [
    {
     "data": {
      "text/plain": [
       "<matplotlib.text.Text at 0x1122505c0>"
      ]
     },
     "execution_count": 2,
     "metadata": {},
     "output_type": "execute_result"
    },
    {
     "data": {
      "image/png": "[encoded data removed]",
      "text/plain": [
       "<matplotlib.figure.Figure at 0x1121c14a8>"
      ]
     },
     "metadata": {},
     "output_type": "display_data"
    }
   ],
   "source": [
    "import numpy as np\n",
    "import matplotlib.pyplot as plt\n",
    "\n",
    "x = np.linspace(0, 1e6, 10)\n",
    "plt.plot(x, 8.0 * (x**2) / 1e6, lw=5)   \n",
    "plt.xlabel('size n')\n",
    "plt.ylabel('memory [MB]')"
   ]
  },
  {
   "cell_type": "markdown",
   "metadata": {},
   "source": [
    "### 2.5.1.2 稀疏矩阵 vs. 稀疏矩阵存储方案\n",
    "\n",
    "- 稀疏矩阵是一个矩阵，绝大多数是空的\n",
    "- 存储所有的0是浪费 -> 只存储非0项目\n",
    "- 想一下**压缩**\n",
    "- 有利: 巨大的内存节省\n",
    "- 不利: 依赖实际的存储方案, (\\*) 通常并不能满足\n",
    "\n",
    "### 2.5.1.3 典型应用\n",
    "- 偏微分方程（PDES）的解\n",
    "    - 有限元素法\n",
    "    - 机械工程、电子、物理...\n",
    "- 图论\n",
    "    - （i，j）不是0表示节点i与节点j是联接的\n",
    "- ...\n",
    "\n",
    "### 2.5.1.4 先决条件\n",
    "\n",
    "最新版本的\n",
    "- `numpy`\n",
    "- `scipy`\n",
    "- `matplotlib` (可选)\n",
    "- `ipython` (那些增强很方便)\n",
    "\n",
    "### 2.5.1.5 稀疏结构可视化\n",
    "\n",
    "- matplotlib中的`spy()`\n",
    "- 样例绘图:\n",
    "\n",
    "![](http://www.scipy-lectures.org/_images/graph.png)\n",
    "![](http://www.scipy-lectures.org/_images/graph_g.png)\n",
    "![](http://www.scipy-lectures.org/_images/graph_rcm.png)"
   ]
  },
  {
   "cell_type": "markdown",
   "metadata": {},
   "source": [
    "## 2.5.2 存储机制\n",
    "\n",
    "- scipy.sparse中有七类稀疏矩阵:\n",
    "    1. csc_matrix: 压缩列格式\n",
    "    2. csr_matrix: 压缩行格式\n",
    "    3. bsr_matrix: 块压缩行格式\n",
    "    4. lil_matrix: 列表的列表格式\n",
    "    5. dok_matrix: 值的字典格式\n",
    "    6. coo_matrix: 座标格式 (即 IJV, 三维格式)\n",
    "    7. dia_matrix: 对角线格式\n",
    "- 每一个类型适用于一些任务\n",
    "- 许多都利用了由Nathan Bell提供的稀疏工具 C++ 模块\n",
    "- 假设导入了下列模块:"
   ]
  },
  {
   "cell_type": "code",
   "execution_count": 4,
   "metadata": {
    "collapsed": true
   },
   "outputs": [],
   "source": [
    "import numpy as np\n",
    "import scipy.sparse as sparse\n",
    "import matplotlib.pyplot as plt"
   ]
  },
  {
   "cell_type": "markdown",
   "metadata": {},
   "source": [
    "- 给Numpy用户的**warning**:\n",
    "    - 使用'\\*'的乘是*矩阵相乘* (点积)\n",
    "    - 并不是Numpy的一部分!\n",
    "        - 向Numpy函数传递一个稀疏矩阵希望一个ndarray/矩阵是没用的"
   ]
  },
  {
   "cell_type": "markdown",
   "metadata": {},
   "source": [
    "### 2.5.2.1 通用方法\n",
    "\n",
    "- 所有scipy.sparse类都是spmatrix的子类\n",
    "    - 算术操作的默认实现\n",
    "        - 通常转化为CSR\n",
    "        - 为了效率而子类覆盖\n",
    "    - 形状、数据类型设置/获取\n",
    "    - 非0索引\n",
    "    - 格式转化、与Numpy交互(toarray(), todense())\n",
    "    - ...\n",
    "\n",
    "- 属性:\n",
    "    - mtx.A - 与mtx.toarray()相同\n",
    "    - mtx.T - 转置 (与mtx.transpose()相同)\n",
    "    - mtx.H - Hermitian (列举) 转置\n",
    "    - mtx.real - 复矩阵的真部\n",
    "    - mtx.imag - 复矩阵的虚部\n",
    "    - mtx.size - 非零数 (与self.getnnz()相同)\n",
    "    - mtx.shape - 行数和列数 (元组)\n",
    "\n",
    "- 数据通常储存在Numpy数组中\n",
    "\n",
    "### 2.5.2.2 稀疏矩阵类\n",
    "#### 2.5.2.2.1 对角线格式 (DIA)\n",
    "- 非常简单的格式\n",
    "- 形状 (n_diag, length) 的密集Numpy数组的对角线\n",
    "    - 固定长度 -> 当离主对角线比较远时会浪费空间\n",
    "    - \\_data_matrix的子类 (带数据属性的稀疏矩阵类)\n",
    "- 每个对角线的偏移\n",
    "    - 0 是主对角线\n",
    "    - 负偏移 = 下面\n",
    "    - 正偏移 = 上面\n",
    "- 快速矩阵 * 向量 (sparsetools)\n",
    "- 快速方便的关于项目的操作\n",
    "    - 直接操作数据数组 (快速的NumPy机件)\n",
    "- 构建器接受 :\n",
    "    - 密集矩阵 (数组)\n",
    "    - 稀疏矩阵\n",
    "    - 形状元组 (创建空矩阵)\n",
    "    - (数据, 偏移) 元组\n",
    "- 没有切片、没有单个项目访问\n",
    "- 用法 :\n",
    "    - 非常专业\n",
    "    - 通过有限微分解偏微分方程\n",
    "    - 有一个迭代求解器\n",
    "    \n",
    "##### 2.5.2.2.1.1 示例\n",
    "- 创建一些DIA矩阵 :"
   ]
  },
  {
   "cell_type": "code",
   "execution_count": 5,
   "metadata": {
    "collapsed": false
   },
   "outputs": [
    {
     "data": {
      "text/plain": [
       "array([[1, 2, 3, 4],\n",
       "       [1, 2, 3, 4],\n",
       "       [1, 2, 3, 4]])"
      ]
     },
     "execution_count": 5,
     "metadata": {},
     "output_type": "execute_result"
    }
   ],
   "source": [
    "data = np.array([[1, 2, 3, 4]]).repeat(3, axis=0)\n",
    "data"
   ]
  },
  {
   "cell_type": "code",
   "execution_count": 6,
   "metadata": {
    "collapsed": false
   },
   "outputs": [
    {
     "data": {
      "text/plain": [
       "<4x4 sparse matrix of type '<class 'numpy.int64'>'\n",
       "\twith 9 stored elements (3 diagonals) in DIAgonal format>"
      ]
     },
     "execution_count": 6,
     "metadata": {},
     "output_type": "execute_result"
    }
   ],
   "source": [
    "offsets = np.array([0, -1, 2])\n",
    "mtx = sparse.dia_matrix((data, offsets), shape=(4, 4))\n",
    "mtx "
   ]
  },
  {
   "cell_type": "code",
   "execution_count": 7,
   "metadata": {
    "collapsed": false
   },
   "outputs": [
    {
     "data": {
      "text/plain": [
       "matrix([[1, 0, 3, 0],\n",
       "        [1, 2, 0, 4],\n",
       "        [0, 2, 3, 0],\n",
       "        [0, 0, 3, 4]])"
      ]
     },
     "execution_count": 7,
     "metadata": {},
     "output_type": "execute_result"
    }
   ],
   "source": [
    "mtx.todense()"
   ]
  },
  {
   "cell_type": "code",
   "execution_count": 8,
   "metadata": {
    "collapsed": false
   },
   "outputs": [
    {
     "data": {
      "text/plain": [
       "array([[ 1,  2,  3,  4],\n",
       "       [ 5,  6,  7,  8],\n",
       "       [ 9, 10, 11, 12]])"
      ]
     },
     "execution_count": 8,
     "metadata": {},
     "output_type": "execute_result"
    }
   ],
   "source": [
    "data = np.arange(12).reshape((3, 4)) + 1\n",
    "data"
   ]
  },
  {
   "cell_type": "code",
   "execution_count": 9,
   "metadata": {
    "collapsed": false
   },
   "outputs": [
    {
     "data": {
      "text/plain": [
       "array([[ 1,  2,  3,  4],\n",
       "       [ 5,  6,  7,  8],\n",
       "       [ 9, 10, 11, 12]])"
      ]
     },
     "execution_count": 9,
     "metadata": {},
     "output_type": "execute_result"
    }
   ],
   "source": [
    "mtx = sparse.dia_matrix((data, offsets), shape=(4, 4))\n",
    "mtx.data"
   ]
  },
  {
   "cell_type": "code",
   "execution_count": 10,
   "metadata": {
    "collapsed": false
   },
   "outputs": [
    {
     "data": {
      "text/plain": [
       "array([ 0, -1,  2], dtype=int32)"
      ]
     },
     "execution_count": 10,
     "metadata": {},
     "output_type": "execute_result"
    }
   ],
   "source": [
    "mtx.offsets"
   ]
  },
  {
   "cell_type": "code",
   "execution_count": 12,
   "metadata": {
    "collapsed": false
   },
   "outputs": [
    {
     "name": "stdout",
     "output_type": "stream",
     "text": [
      "  (0, 0)\t1\n",
      "  (1, 1)\t2\n",
      "  (2, 2)\t3\n",
      "  (3, 3)\t4\n",
      "  (1, 0)\t5\n",
      "  (2, 1)\t6\n",
      "  (3, 2)\t7\n",
      "  (0, 2)\t11\n",
      "  (1, 3)\t12\n"
     ]
    }
   ],
   "source": [
    "print(mtx)"
   ]
  },
  {
   "cell_type": "code",
   "execution_count": 13,
   "metadata": {
    "collapsed": false
   },
   "outputs": [
    {
     "data": {
      "text/plain": [
       "matrix([[ 1,  0, 11,  0],\n",
       "        [ 5,  2,  0, 12],\n",
       "        [ 0,  6,  3,  0],\n",
       "        [ 0,  0,  7,  4]])"
      ]
     },
     "execution_count": 13,
     "metadata": {},
     "output_type": "execute_result"
    }
   ],
   "source": [
    "mtx.todense()"
   ]
  },
  {
   "cell_type": "markdown",
   "metadata": {},
   "source": [
    "- 机制的解释 :\n",
    "\n",
    "偏移: 行\n",
    "\n",
    "     2:  9\n",
    "     1:  --10------\n",
    "     0:  1  . 11  .\n",
    "    -1:  5  2  . 12\n",
    "    -2:  .  6  3  .\n",
    "    -3:  .  .  7  4\n",
    "         ---------8\n",
    "         \n",
    "- 矩阵-向量相乘"
   ]
  },
  {
   "cell_type": "code",
   "execution_count": 14,
   "metadata": {
    "collapsed": false
   },
   "outputs": [
    {
     "data": {
      "text/plain": [
       "array([ 1.,  1.,  1.,  1.])"
      ]
     },
     "execution_count": 14,
     "metadata": {},
     "output_type": "execute_result"
    }
   ],
   "source": [
    "vec = np.ones((4, ))\n",
    "vec"
   ]
  },
  {
   "cell_type": "code",
   "execution_count": 15,
   "metadata": {
    "collapsed": false
   },
   "outputs": [
    {
     "data": {
      "text/plain": [
       "array([ 12.,  19.,   9.,  11.])"
      ]
     },
     "execution_count": 15,
     "metadata": {},
     "output_type": "execute_result"
    }
   ],
   "source": [
    "mtx * vec"
   ]
  },
  {
   "cell_type": "code",
   "execution_count": 16,
   "metadata": {
    "collapsed": false
   },
   "outputs": [
    {
     "data": {
      "text/plain": [
       "array([[  1.,   0.,  11.,   0.],\n",
       "       [  5.,   2.,   0.,  12.],\n",
       "       [  0.,   6.,   3.,   0.],\n",
       "       [  0.,   0.,   7.,   4.]])"
      ]
     },
     "execution_count": 16,
     "metadata": {},
     "output_type": "execute_result"
    }
   ],
   "source": [
    "mtx.toarray() * vec"
   ]
  },
  {
   "cell_type": "markdown",
   "metadata": {},
   "source": [
    "#### 2.5.2.2.2 列表的列表格式 (LIL)\n",
    "- 基于行的联接列表\n",
    "    - 每一行是一个Python列表（排序的）非零元素的列索引\n",
    "    - 行存储在Numpy数组中 (dtype=np.object)\n",
    "    - 非零值也近似存储\n",
    "- 高效增量构建稀疏矩阵\n",
    "- 构建器接受 :\n",
    "    - 密集矩阵 (数组)\n",
    "    - 稀疏矩阵\n",
    "    - 形状元组 (创建一个空矩阵)\n",
    "- 灵活切片、高效改变稀疏结构\n",
    "- 由于是基于行的，算术和行切片慢\n",
    "- 用途 :\n",
    "    - 当稀疏模式并不是已知的逻辑或改变\n",
    "    - 例子：从一个文本文件读取稀疏矩阵\n",
    "\n",
    "##### 2.5.2.2.2.1 示例\n",
    "- 创建一个空的LIL矩阵 :"
   ]
  },
  {
   "cell_type": "code",
   "execution_count": 17,
   "metadata": {
    "collapsed": true
   },
   "outputs": [],
   "source": [
    "mtx = sparse.lil_matrix((4, 5))"
   ]
  },
  {
   "cell_type": "markdown",
   "metadata": {},
   "source": [
    "- 准备随机数据:"
   ]
  },
  {
   "cell_type": "code",
   "execution_count": 18,
   "metadata": {
    "collapsed": false
   },
   "outputs": [
    {
     "data": {
      "text/plain": [
       "array([[ 1.,  1.,  1.],\n",
       "       [ 0.,  1.,  1.]])"
      ]
     },
     "execution_count": 18,
     "metadata": {},
     "output_type": "execute_result"
    }
   ],
   "source": [
    "from numpy.random import rand\n",
    "data = np.round(rand(2, 3))\n",
    "data"
   ]
  },
  {
   "cell_type": "markdown",
   "metadata": {},
   "source": [
    "- 使用象征所以分配数据:"
   ]
  },
  {
   "cell_type": "code",
   "execution_count": 19,
   "metadata": {
    "collapsed": false
   },
   "outputs": [
    {
     "data": {
      "text/plain": [
       "<4x5 sparse matrix of type '<class 'numpy.float64'>'\n",
       "\twith 5 stored elements in LInked List format>"
      ]
     },
     "execution_count": 19,
     "metadata": {},
     "output_type": "execute_result"
    }
   ],
   "source": [
    "mtx[:2, [1, 2, 3]] = data\n",
    "mtx  "
   ]
  },
  {
   "cell_type": "code",
   "execution_count": 21,
   "metadata": {
    "collapsed": false
   },
   "outputs": [
    {
     "name": "stdout",
     "output_type": "stream",
     "text": [
      "  (0, 1)\t1.0\n",
      "  (0, 2)\t1.0\n",
      "  (0, 3)\t1.0\n",
      "  (1, 2)\t1.0\n",
      "  (1, 3)\t1.0\n"
     ]
    }
   ],
   "source": [
    "print(mtx)"
   ]
  },
  {
   "cell_type": "code",
   "execution_count": 22,
   "metadata": {
    "collapsed": false
   },
   "outputs": [
    {
     "data": {
      "text/plain": [
       "matrix([[ 0.,  1.,  1.,  1.,  0.],\n",
       "        [ 0.,  0.,  1.,  1.,  0.],\n",
       "        [ 0.,  0.,  0.,  0.,  0.],\n",
       "        [ 0.,  0.,  0.,  0.,  0.]])"
      ]
     },
     "execution_count": 22,
     "metadata": {},
     "output_type": "execute_result"
    }
   ],
   "source": [
    "mtx.todense()"
   ]
  },
  {
   "cell_type": "code",
   "execution_count": 23,
   "metadata": {
    "collapsed": false
   },
   "outputs": [
    {
     "data": {
      "text/plain": [
       "array([[ 0.,  1.,  1.,  1.,  0.],\n",
       "       [ 0.,  0.,  1.,  1.,  0.],\n",
       "       [ 0.,  0.,  0.,  0.,  0.],\n",
       "       [ 0.,  0.,  0.,  0.,  0.]])"
      ]
     },
     "execution_count": 23,
     "metadata": {},
     "output_type": "execute_result"
    }
   ],
   "source": [
    "mtx.toarray()"
   ]
  },
  {
   "cell_type": "markdown",
   "metadata": {},
   "source": [
    "更多的切片和索引:"
   ]
  },
  {
   "cell_type": "code",
   "execution_count": 24,
   "metadata": {
    "collapsed": false
   },
   "outputs": [
    {
     "data": {
      "text/plain": [
       "matrix([[0, 1, 2, 0],\n",
       "        [3, 0, 1, 0],\n",
       "        [1, 0, 0, 1]], dtype=int64)"
      ]
     },
     "execution_count": 24,
     "metadata": {},
     "output_type": "execute_result"
    }
   ],
   "source": [
    "mtx = sparse.lil_matrix([[0, 1, 2, 0], [3, 0, 1, 0], [1, 0, 0, 1]])\n",
    "mtx.todense()"
   ]
  },
  {
   "cell_type": "code",
   "execution_count": 25,
   "metadata": {
    "collapsed": false
   },
   "outputs": [
    {
     "name": "stdout",
     "output_type": "stream",
     "text": [
      "  (0, 1)\t1\n",
      "  (0, 2)\t2\n",
      "  (1, 0)\t3\n",
      "  (1, 2)\t1\n",
      "  (2, 0)\t1\n",
      "  (2, 3)\t1\n"
     ]
    }
   ],
   "source": [
    "print(mtx)"
   ]
  },
  {
   "cell_type": "code",
   "execution_count": 26,
   "metadata": {
    "collapsed": false
   },
   "outputs": [
    {
     "data": {
      "text/plain": [
       "<2x4 sparse matrix of type '<class 'numpy.int64'>'\n",
       "\twith 4 stored elements in LInked List format>"
      ]
     },
     "execution_count": 26,
     "metadata": {},
     "output_type": "execute_result"
    }
   ],
   "source": [
    "mtx[:2, :] "
   ]
  },
  {
   "cell_type": "code",
   "execution_count": 27,
   "metadata": {
    "collapsed": false
   },
   "outputs": [
    {
     "data": {
      "text/plain": [
       "matrix([[0, 1, 2, 0],\n",
       "        [3, 0, 1, 0]], dtype=int64)"
      ]
     },
     "execution_count": 27,
     "metadata": {},
     "output_type": "execute_result"
    }
   ],
   "source": [
    "mtx[:2, :].todense()"
   ]
  },
  {
   "cell_type": "code",
   "execution_count": 28,
   "metadata": {
    "collapsed": false
   },
   "outputs": [
    {
     "data": {
      "text/plain": [
       "matrix([[3, 1]], dtype=int64)"
      ]
     },
     "execution_count": 28,
     "metadata": {},
     "output_type": "execute_result"
    }
   ],
   "source": [
    "mtx[1:2, [0,2]].todense()"
   ]
  },
  {
   "cell_type": "code",
   "execution_count": 29,
   "metadata": {
    "collapsed": false
   },
   "outputs": [
    {
     "data": {
      "text/plain": [
       "matrix([[0, 1, 2, 0],\n",
       "        [3, 0, 1, 0],\n",
       "        [1, 0, 0, 1]], dtype=int64)"
      ]
     },
     "execution_count": 29,
     "metadata": {},
     "output_type": "execute_result"
    }
   ],
   "source": [
    "mtx.todense()"
   ]
  },
  {
   "cell_type": "markdown",
   "metadata": {},
   "source": [
    "#### 2.5.2.2.3 值的字典格式 (DOK)\n",
    "\n",
    "- Python字典的子类\n",
    "    - 键是 (行, 列) 索引元组 (不允许重复的条目)\n",
    "    - 值是对应的非零值\n",
    "- 高效增量构建稀疏矩阵\n",
    "- 构建器支持:\n",
    "    - 密集矩阵 (数组)\n",
    "    - 稀疏矩阵\n",
    "    - 形状元组 (创建空矩阵)\n",
    "- 高效 O(1) 对单个元素的访问\n",
    "- 灵活索引，改变稀疏结构是高效\n",
    "- 一旦创建完成后可以被高效转换为coo_matrix\n",
    "- 算术很慢 (循环用`dict.iteritems()`)\n",
    "- 用法:\n",
    "    - 当稀疏模式是未知的假设或改变时\n",
    "    \n",
    "##### 2.5.2.2.3.1 示例\n",
    "\n",
    "- 逐个元素创建一个DOK矩阵:"
   ]
  },
  {
   "cell_type": "code",
   "execution_count": 30,
   "metadata": {
    "collapsed": false
   },
   "outputs": [
    {
     "data": {
      "text/plain": [
       "<5x5 sparse matrix of type '<class 'numpy.float64'>'\n",
       "\twith 0 stored elements in Dictionary Of Keys format>"
      ]
     },
     "execution_count": 30,
     "metadata": {},
     "output_type": "execute_result"
    }
   ],
   "source": [
    "mtx = sparse.dok_matrix((5, 5), dtype=np.float64)\n",
    "mtx"
   ]
  },
  {
   "cell_type": "code",
   "execution_count": 31,
   "metadata": {
    "collapsed": false
   },
   "outputs": [
    {
     "data": {
      "text/plain": [
       "<5x5 sparse matrix of type '<class 'numpy.float64'>'\n",
       "\twith 20 stored elements in Dictionary Of Keys format>"
      ]
     },
     "execution_count": 31,
     "metadata": {},
     "output_type": "execute_result"
    }
   ],
   "source": [
    "for ir in range(5):\n",
    "    for ic in range(5):\n",
    "        mtx[ir, ic] = 1.0 * (ir != ic)\n",
    "mtx"
   ]
  },
  {
   "cell_type": "code",
   "execution_count": 32,
   "metadata": {
    "collapsed": false
   },
   "outputs": [
    {
     "data": {
      "text/plain": [
       "matrix([[ 0.,  1.,  1.,  1.,  1.],\n",
       "        [ 1.,  0.,  1.,  1.,  1.],\n",
       "        [ 1.,  1.,  0.,  1.,  1.],\n",
       "        [ 1.,  1.,  1.,  0.,  1.],\n",
       "        [ 1.,  1.,  1.,  1.,  0.]])"
      ]
     },
     "execution_count": 32,
     "metadata": {},
     "output_type": "execute_result"
    }
   ],
   "source": [
    "mtx.todense()"
   ]
  },
  {
   "cell_type": "markdown",
   "metadata": {},
   "source": [
    "- 切片与索引:"
   ]
  },
  {
   "cell_type": "code",
   "execution_count": 33,
   "metadata": {
    "collapsed": false
   },
   "outputs": [
    {
     "data": {
      "text/plain": [
       "0.0"
      ]
     },
     "execution_count": 33,
     "metadata": {},
     "output_type": "execute_result"
    }
   ],
   "source": [
    "mtx[1, 1]"
   ]
  },
  {
   "cell_type": "code",
   "execution_count": 34,
   "metadata": {
    "collapsed": false
   },
   "outputs": [
    {
     "data": {
      "text/plain": [
       "<1x2 sparse matrix of type '<class 'numpy.float64'>'\n",
       "\twith 1 stored elements in Dictionary Of Keys format>"
      ]
     },
     "execution_count": 34,
     "metadata": {},
     "output_type": "execute_result"
    }
   ],
   "source": [
    "mtx[1, 1:3]     "
   ]
  },
  {
   "cell_type": "code",
   "execution_count": 35,
   "metadata": {
    "collapsed": false
   },
   "outputs": [
    {
     "data": {
      "text/plain": [
       "matrix([[ 0.,  1.]])"
      ]
     },
     "execution_count": 35,
     "metadata": {},
     "output_type": "execute_result"
    }
   ],
   "source": [
    "mtx[1, 1:3].todense()"
   ]
  },
  {
   "cell_type": "code",
   "execution_count": 36,
   "metadata": {
    "collapsed": false
   },
   "outputs": [
    {
     "data": {
      "text/plain": [
       "matrix([[ 1.,  0.],\n",
       "        [ 0.,  1.]])"
      ]
     },
     "execution_count": 36,
     "metadata": {},
     "output_type": "execute_result"
    }
   ],
   "source": [
    "mtx[[2,1], 1:3].todense() "
   ]
  },
  {
   "cell_type": "markdown",
   "metadata": {},
   "source": [
    "#### 2.5.2.2.4 座标格式 (COO)\n",
    "\n",
    "- 也被称为 ‘ijv’ 或 ‘triplet’ 格式\n",
    "    - 三个NumPy数组: row, col, data\n",
    "    - `data[i]`是在 (row[i], col[i]) 位置的值\n",
    "    - 允许重复值\n",
    "- `_data_matrix`的子类 (带有`data`属性的稀疏矩阵类)\n",
    "- 构建稀疏矩阵的高速模式\n",
    "- 构建器接受:\n",
    "    - 密集矩阵 (数组)\n",
    "    - 稀疏矩阵\n",
    "    - 形状元组 (创建空数组)\n",
    "    - `(data, ij)`元组\n",
    "- 与CSR/CSC格式非常快的互相转换\n",
    "- 快速的矩阵 * 向量 (sparsetools)\n",
    "- 快速而简便的逐项操作\n",
    "    - 直接操作数据数组 (快速NumPy机制)\n",
    "- 没有切片，没有算术 (直接)\n",
    "- 使用:\n",
    "    - 在各种稀疏格式间的灵活转换\n",
    "    - 当转化到其他形式 (通常是 CSR 或 CSC), 重复的条目被加总到一起\n",
    "        - 有限元素矩阵的快速高效创建\n",
    "        \n",
    "##### 2.5.2.2.4.1 示例\n",
    "\n",
    "- 创建空的COO矩阵:"
   ]
  },
  {
   "cell_type": "code",
   "execution_count": 37,
   "metadata": {
    "collapsed": false
   },
   "outputs": [
    {
     "data": {
      "text/plain": [
       "matrix([[0, 0, 0, 0],\n",
       "        [0, 0, 0, 0],\n",
       "        [0, 0, 0, 0]], dtype=int8)"
      ]
     },
     "execution_count": 37,
     "metadata": {},
     "output_type": "execute_result"
    }
   ],
   "source": [
    "mtx = sparse.coo_matrix((3, 4), dtype=np.int8)\n",
    "mtx.todense()"
   ]
  },
  {
   "cell_type": "markdown",
   "metadata": {},
   "source": [
    "- 用 (data, ij) 元组创建:"
   ]
  },
  {
   "cell_type": "code",
   "execution_count": 38,
   "metadata": {
    "collapsed": false
   },
   "outputs": [
    {
     "data": {
      "text/plain": [
       "<4x4 sparse matrix of type '<class 'numpy.int64'>'\n",
       "\twith 4 stored elements in COOrdinate format>"
      ]
     },
     "execution_count": 38,
     "metadata": {},
     "output_type": "execute_result"
    }
   ],
   "source": [
    "row = np.array([0, 3, 1, 0])\n",
    "col = np.array([0, 3, 1, 2])\n",
    "data = np.array([4, 5, 7, 9])\n",
    "mtx = sparse.coo_matrix((data, (row, col)), shape=(4, 4))\n",
    "mtx     "
   ]
  },
  {
   "cell_type": "code",
   "execution_count": 39,
   "metadata": {
    "collapsed": false
   },
   "outputs": [
    {
     "data": {
      "text/plain": [
       "matrix([[4, 0, 9, 0],\n",
       "        [0, 7, 0, 0],\n",
       "        [0, 0, 0, 0],\n",
       "        [0, 0, 0, 5]])"
      ]
     },
     "execution_count": 39,
     "metadata": {},
     "output_type": "execute_result"
    }
   ],
   "source": [
    "mtx.todense()"
   ]
  },
  {
   "cell_type": "markdown",
   "metadata": {},
   "source": [
    "#### 2.5.2.2.5 压缩稀疏行格式 (CSR)\n",
    "- 面向行\n",
    "    - 三个Numpy数组: `indices`, `indptr`, `data`\n",
    "        - `indices`是列索引的数组\n",
    "        - `data`是对应的非零值数组\n",
    "        - `indptr`指向行开始的所以和数据\n",
    "        - 长度是`n_row + 1`, 最后一个项目 = 值数量 = `indices`和`data`的长度\n",
    "        - i-th行的非零值是列索引为`indices[indptr[i]:indptr[i+1]]`的`data[indptr[i]:indptr[i+1]]`\n",
    "        - 项目 (i, j) 可以通过`data[indptr[i]+k]`, k是j在`indices[indptr[i]:indptr[i+1]]`的位置来访问\n",
    "    - `_cs_matrix` (常规 CSR/CSC 功能) 的子类\n",
    "    - `_data_matrix` (带有`data`属性的稀疏矩阵类) 的子类\n",
    "- 快速矩阵向量相乘和其他算术 (sparsetools)\n",
    "- 构建器接受:\n",
    "    - 密集矩阵 (数组)\n",
    "    - 稀疏矩阵\n",
    "    - 形状元组 (创建空矩阵)\n",
    "    - `(data, ij)` 元组\n",
    "    - `(data, indices, indptr)` 元组\n",
    "- 高效行切片，面向行的操作\n",
    "- 较慢的列切片，改变稀疏结构代价昂贵\n",
    "- 用途:\n",
    "    - 实际计算 (大多数线性求解器都支持这个格式)\n",
    "\n",
    "##### 2.5.2.2.5.1 示例\n",
    "\n",
    "- 创建空的CSR矩阵:"
   ]
  },
  {
   "cell_type": "code",
   "execution_count": 40,
   "metadata": {
    "collapsed": false
   },
   "outputs": [
    {
     "data": {
      "text/plain": [
       "matrix([[0, 0, 0, 0],\n",
       "        [0, 0, 0, 0],\n",
       "        [0, 0, 0, 0]], dtype=int8)"
      ]
     },
     "execution_count": 40,
     "metadata": {},
     "output_type": "execute_result"
    }
   ],
   "source": [
    "mtx = sparse.csr_matrix((3, 4), dtype=np.int8)\n",
    "mtx.todense()"
   ]
  },
  {
   "cell_type": "markdown",
   "metadata": {},
   "source": [
    "- 用`(data, ij)`元组创建:"
   ]
  },
  {
   "cell_type": "code",
   "execution_count": 41,
   "metadata": {
    "collapsed": false
   },
   "outputs": [
    {
     "data": {
      "text/plain": [
       "<3x3 sparse matrix of type '<class 'numpy.int64'>'\n",
       "\twith 6 stored elements in Compressed Sparse Row format>"
      ]
     },
     "execution_count": 41,
     "metadata": {},
     "output_type": "execute_result"
    }
   ],
   "source": [
    "row = np.array([0, 0, 1, 2, 2, 2])\n",
    "col = np.array([0, 2, 2, 0, 1, 2])\n",
    "data = np.array([1, 2, 3, 4, 5, 6])\n",
    "mtx = sparse.csr_matrix((data, (row, col)), shape=(3, 3))\n",
    "mtx     "
   ]
  },
  {
   "cell_type": "code",
   "execution_count": 42,
   "metadata": {
    "collapsed": false
   },
   "outputs": [
    {
     "data": {
      "text/plain": [
       "matrix([[1, 0, 2],\n",
       "        [0, 0, 3],\n",
       "        [4, 5, 6]], dtype=int64)"
      ]
     },
     "execution_count": 42,
     "metadata": {},
     "output_type": "execute_result"
    }
   ],
   "source": [
    "mtx.todense()"
   ]
  },
  {
   "cell_type": "code",
   "execution_count": 43,
   "metadata": {
    "collapsed": false
   },
   "outputs": [
    {
     "data": {
      "text/plain": [
       "array([1, 2, 3, 4, 5, 6], dtype=int64)"
      ]
     },
     "execution_count": 43,
     "metadata": {},
     "output_type": "execute_result"
    }
   ],
   "source": [
    "mtx.data"
   ]
  },
  {
   "cell_type": "code",
   "execution_count": 44,
   "metadata": {
    "collapsed": false
   },
   "outputs": [
    {
     "data": {
      "text/plain": [
       "array([0, 2, 2, 0, 1, 2], dtype=int32)"
      ]
     },
     "execution_count": 44,
     "metadata": {},
     "output_type": "execute_result"
    }
   ],
   "source": [
    "mtx.indices"
   ]
  },
  {
   "cell_type": "code",
   "execution_count": 45,
   "metadata": {
    "collapsed": false
   },
   "outputs": [
    {
     "data": {
      "text/plain": [
       "array([0, 2, 3, 6], dtype=int32)"
      ]
     },
     "execution_count": 45,
     "metadata": {},
     "output_type": "execute_result"
    }
   ],
   "source": [
    "mtx.indptr"
   ]
  },
  {
   "cell_type": "markdown",
   "metadata": {},
   "source": [
    "用`(data, indices, indptr)`元组创建:"
   ]
  },
  {
   "cell_type": "code",
   "execution_count": 46,
   "metadata": {
    "collapsed": false
   },
   "outputs": [
    {
     "data": {
      "text/plain": [
       "matrix([[1, 0, 2],\n",
       "        [0, 0, 3],\n",
       "        [4, 5, 6]])"
      ]
     },
     "execution_count": 46,
     "metadata": {},
     "output_type": "execute_result"
    }
   ],
   "source": [
    "data = np.array([1, 2, 3, 4, 5, 6])\n",
    "indices = np.array([0, 2, 2, 0, 1, 2])\n",
    "indptr = np.array([0, 2, 3, 6])\n",
    "mtx = sparse.csr_matrix((data, indices, indptr), shape=(3, 3))\n",
    "mtx.todense()"
   ]
  },
  {
   "cell_type": "markdown",
   "metadata": {},
   "source": [
    "#### 2.5.2.2.6 压缩稀疏列格式 (CSC)\n",
    "\n",
    "- 面向列\n",
    "    - 三个Numpy数组: `indices`、`indptr`、`data`\n",
    "    - `indices`是行索引的数组\n",
    "    - `data`是对应的非零值\n",
    "    - `indptr`指向`indices`和`data`开始的列\n",
    "    - 长度是`n_col + 1`, 最后一个条目 = 值数量 = `indices`和`data`的长度\n",
    "    - 第i列的非零值是行索引为`indices[indptr[i]:indptr[i+1]]`的`data[indptr[i]:indptr[i+1]]`\n",
    "    - 项目 (i, j) 可以作为`data[indptr[j]+k]`访问, k是i在`indices[indptr[j]:indptr[j+1]]`的位置\n",
    "    - `_cs_matrix`的子类 (通用的 CSR/CSC 功能性)\n",
    "        - `_data_matrix`的子类 (带有`data`属性的稀疏矩阵类)\n",
    "- 快速的矩阵和向量相乘及其他数学 (sparsetools)\n",
    "- 构建器接受：\n",
    "    - 密集矩阵 (数组)\n",
    "    - 稀疏矩阵\n",
    "    - 形状元组 (创建空矩阵)\n",
    "    - `(data, ij)`元组\n",
    "    - `(data, indices, indptr)`元组\n",
    "- 高效列切片、面向列的操作\n",
    "- 较慢的行切片、改变稀疏结构代价昂贵\n",
    "- 用途:\n",
    "    - 实际计算 (巨大多数线性求解器支持这个格式)\n",
    "    \n",
    "##### 2.5.2.2.6.1 示例\n",
    "\n",
    "- 创建空CSC矩阵:"
   ]
  },
  {
   "cell_type": "code",
   "execution_count": 47,
   "metadata": {
    "collapsed": false
   },
   "outputs": [
    {
     "data": {
      "text/plain": [
       "matrix([[0, 0, 0, 0],\n",
       "        [0, 0, 0, 0],\n",
       "        [0, 0, 0, 0]], dtype=int8)"
      ]
     },
     "execution_count": 47,
     "metadata": {},
     "output_type": "execute_result"
    }
   ],
   "source": [
    "mtx = sparse.csc_matrix((3, 4), dtype=np.int8)\n",
    "mtx.todense()"
   ]
  },
  {
   "cell_type": "markdown",
   "metadata": {},
   "source": [
    "- 用`(data, ij)`元组创建:"
   ]
  },
  {
   "cell_type": "code",
   "execution_count": 48,
   "metadata": {
    "collapsed": false
   },
   "outputs": [
    {
     "data": {
      "text/plain": [
       "<3x3 sparse matrix of type '<class 'numpy.int64'>'\n",
       "\twith 6 stored elements in Compressed Sparse Column format>"
      ]
     },
     "execution_count": 48,
     "metadata": {},
     "output_type": "execute_result"
    }
   ],
   "source": [
    "row = np.array([0, 0, 1, 2, 2, 2])\n",
    "col = np.array([0, 2, 2, 0, 1, 2])\n",
    "data = np.array([1, 2, 3, 4, 5, 6])\n",
    "mtx = sparse.csc_matrix((data, (row, col)), shape=(3, 3))\n",
    "mtx     "
   ]
  },
  {
   "cell_type": "code",
   "execution_count": 49,
   "metadata": {
    "collapsed": false
   },
   "outputs": [
    {
     "data": {
      "text/plain": [
       "matrix([[1, 0, 2],\n",
       "        [0, 0, 3],\n",
       "        [4, 5, 6]], dtype=int64)"
      ]
     },
     "execution_count": 49,
     "metadata": {},
     "output_type": "execute_result"
    }
   ],
   "source": [
    "mtx.todense()"
   ]
  },
  {
   "cell_type": "code",
   "execution_count": 50,
   "metadata": {
    "collapsed": false
   },
   "outputs": [
    {
     "data": {
      "text/plain": [
       "array([1, 4, 5, 2, 3, 6], dtype=int64)"
      ]
     },
     "execution_count": 50,
     "metadata": {},
     "output_type": "execute_result"
    }
   ],
   "source": [
    "mtx.data"
   ]
  },
  {
   "cell_type": "code",
   "execution_count": 51,
   "metadata": {
    "collapsed": false
   },
   "outputs": [
    {
     "data": {
      "text/plain": [
       "array([0, 2, 2, 0, 1, 2], dtype=int32)"
      ]
     },
     "execution_count": 51,
     "metadata": {},
     "output_type": "execute_result"
    }
   ],
   "source": [
    "mtx.indices"
   ]
  },
  {
   "cell_type": "code",
   "execution_count": 52,
   "metadata": {
    "collapsed": false
   },
   "outputs": [
    {
     "data": {
      "text/plain": [
       "array([0, 2, 3, 6], dtype=int32)"
      ]
     },
     "execution_count": 52,
     "metadata": {},
     "output_type": "execute_result"
    }
   ],
   "source": [
    "mtx.indptr"
   ]
  },
  {
   "cell_type": "markdown",
   "metadata": {},
   "source": [
    "- 用`(data, indices, indptr)`元组创建:"
   ]
  },
  {
   "cell_type": "code",
   "execution_count": 53,
   "metadata": {
    "collapsed": false
   },
   "outputs": [
    {
     "data": {
      "text/plain": [
       "matrix([[1, 0, 2],\n",
       "        [0, 0, 3],\n",
       "        [4, 5, 6]])"
      ]
     },
     "execution_count": 53,
     "metadata": {},
     "output_type": "execute_result"
    }
   ],
   "source": [
    "data = np.array([1, 4, 5, 2, 3, 6])\n",
    "indices = np.array([0, 2, 2, 0, 1, 2])\n",
    "indptr = np.array([0, 2, 3, 6])\n",
    "mtx = sparse.csc_matrix((data, indices, indptr), shape=(3, 3))\n",
    "mtx.todense()"
   ]
  },
  {
   "cell_type": "markdown",
   "metadata": {},
   "source": [
    "#### 2.5.2.2.7 块压缩行格式 (BSR)\n",
    "- 本质上，CSR带有密集的固定形状的子矩阵而不是纯量的项目\n",
    "    - 块大小`(R, C)`必须可以整除矩阵的形状`(M, N)`\n",
    "    - 三个Numpy数组: `indices`、`indptr`、`data`\n",
    "        - `indices`是每个块列索引的数组\n",
    "        - `data`是形状为(nnz, R, C)对应的非零值\n",
    "        - ...\n",
    "    - `_cs_matrix`的子类 (通用的CSR/CSC功能性)\n",
    "    - `_data_matrix`的子类 (带有`data`属性的稀疏矩阵类)\n",
    "- 快速矩阵向量相乘和其他的算术 (sparsetools)\n",
    "- 构建器接受:\n",
    "    - 密集矩阵 (数组)\n",
    "    - 稀疏矩阵\n",
    "    - 形状元组 (创建空的矩阵)\n",
    "    - `(data, ij)`元组\n",
    "    - `(data, indices, indptr)`元组 \n",
    "- 许多对于带有密集子矩阵的稀疏矩阵算术操作比CSR更高效很多\n",
    "- 用途:\n",
    "    - 类似CSR\n",
    "    - 有限元素向量值离散化\n",
    "##### 2.5.2.2.7.1 示例\n",
    "\n",
    "- 创建空的`(1, 1)`块大小的（类似CSR...）的BSR矩阵:"
   ]
  },
  {
   "cell_type": "code",
   "execution_count": 54,
   "metadata": {
    "collapsed": false
   },
   "outputs": [
    {
     "data": {
      "text/plain": [
       "<3x4 sparse matrix of type '<class 'numpy.int8'>'\n",
       "\twith 0 stored elements (blocksize = 1x1) in Block Sparse Row format>"
      ]
     },
     "execution_count": 54,
     "metadata": {},
     "output_type": "execute_result"
    }
   ],
   "source": [
    "mtx = sparse.bsr_matrix((3, 4), dtype=np.int8)\n",
    "mtx "
   ]
  },
  {
   "cell_type": "code",
   "execution_count": 55,
   "metadata": {
    "collapsed": false
   },
   "outputs": [
    {
     "data": {
      "text/plain": [
       "matrix([[0, 0, 0, 0],\n",
       "        [0, 0, 0, 0],\n",
       "        [0, 0, 0, 0]], dtype=int8)"
      ]
     },
     "execution_count": 55,
     "metadata": {},
     "output_type": "execute_result"
    }
   ],
   "source": [
    "mtx.todense()"
   ]
  },
  {
   "cell_type": "markdown",
   "metadata": {},
   "source": [
    "- 创建块大小`(3, 2)`的空BSR矩阵:"
   ]
  },
  {
   "cell_type": "code",
   "execution_count": 59,
   "metadata": {
    "collapsed": false
   },
   "outputs": [
    {
     "data": {
      "text/plain": [
       "<3x4 sparse matrix of type '<class 'numpy.int8'>'\n",
       "\twith 0 stored elements (blocksize = 3x2) in Block Sparse Row format>"
      ]
     },
     "execution_count": 59,
     "metadata": {},
     "output_type": "execute_result"
    }
   ],
   "source": [
    "mtx = sparse.bsr_matrix((3, 4), blocksize=(3, 2), dtype=np.int8)\n",
    "mtx"
   ]
  },
  {
   "cell_type": "markdown",
   "metadata": {},
   "source": [
    "    - 一个bug?\n",
    "- 用`(1, 1)`块大小 (类似 CSR...)`(data, ij)`的元组创建:"
   ]
  },
  {
   "cell_type": "code",
   "execution_count": 60,
   "metadata": {
    "collapsed": false
   },
   "outputs": [
    {
     "data": {
      "text/plain": [
       "<3x3 sparse matrix of type '<class 'numpy.int64'>'\n",
       "\twith 6 stored elements (blocksize = 1x1) in Block Sparse Row format>"
      ]
     },
     "execution_count": 60,
     "metadata": {},
     "output_type": "execute_result"
    }
   ],
   "source": [
    "row = np.array([0, 0, 1, 2, 2, 2])\n",
    "col = np.array([0, 2, 2, 0, 1, 2])\n",
    "data = np.array([1, 2, 3, 4, 5, 6])\n",
    "mtx = sparse.bsr_matrix((data, (row, col)), shape=(3, 3))\n",
    "mtx "
   ]
  },
  {
   "cell_type": "code",
   "execution_count": 61,
   "metadata": {
    "collapsed": false
   },
   "outputs": [
    {
     "data": {
      "text/plain": [
       "matrix([[1, 0, 2],\n",
       "        [0, 0, 3],\n",
       "        [4, 5, 6]], dtype=int64)"
      ]
     },
     "execution_count": 61,
     "metadata": {},
     "output_type": "execute_result"
    }
   ],
   "source": [
    "mtx.todense()"
   ]
  },
  {
   "cell_type": "code",
   "execution_count": 62,
   "metadata": {
    "collapsed": false
   },
   "outputs": [
    {
     "data": {
      "text/plain": [
       "array([0, 2, 2, 0, 1, 2], dtype=int32)"
      ]
     },
     "execution_count": 62,
     "metadata": {},
     "output_type": "execute_result"
    }
   ],
   "source": [
    "mtx.indices"
   ]
  },
  {
   "cell_type": "code",
   "execution_count": 63,
   "metadata": {
    "collapsed": false
   },
   "outputs": [
    {
     "data": {
      "text/plain": [
       "array([0, 2, 3, 6], dtype=int32)"
      ]
     },
     "execution_count": 63,
     "metadata": {},
     "output_type": "execute_result"
    }
   ],
   "source": [
    "mtx.indptr"
   ]
  },
  {
   "cell_type": "markdown",
   "metadata": {},
   "source": [
    "- 用`(2, 1)`块大小`(data, indices, indptr)`的元组创建:"
   ]
  },
  {
   "cell_type": "code",
   "execution_count": 64,
   "metadata": {
    "collapsed": false
   },
   "outputs": [
    {
     "data": {
      "text/plain": [
       "matrix([[1, 1, 0, 0, 2, 2],\n",
       "        [1, 1, 0, 0, 2, 2],\n",
       "        [0, 0, 0, 0, 3, 3],\n",
       "        [0, 0, 0, 0, 3, 3],\n",
       "        [4, 4, 5, 5, 6, 6],\n",
       "        [4, 4, 5, 5, 6, 6]])"
      ]
     },
     "execution_count": 64,
     "metadata": {},
     "output_type": "execute_result"
    }
   ],
   "source": [
    "indptr = np.array([0, 2, 3, 6])\n",
    "indices = np.array([0, 2, 2, 0, 1, 2])\n",
    "data = np.array([1, 2, 3, 4, 5, 6]).repeat(4).reshape(6, 2, 2)\n",
    "mtx = sparse.bsr_matrix((data, indices, indptr), shape=(6, 6))\n",
    "mtx.todense()"
   ]
  },
  {
   "cell_type": "code",
   "execution_count": 65,
   "metadata": {
    "collapsed": false
   },
   "outputs": [
    {
     "data": {
      "text/plain": [
       "array([[[1, 1],\n",
       "        [1, 1]],\n",
       "\n",
       "       [[2, 2],\n",
       "        [2, 2]],\n",
       "\n",
       "       [[3, 3],\n",
       "        [3, 3]],\n",
       "\n",
       "       [[4, 4],\n",
       "        [4, 4]],\n",
       "\n",
       "       [[5, 5],\n",
       "        [5, 5]],\n",
       "\n",
       "       [[6, 6],\n",
       "        [6, 6]]])"
      ]
     },
     "execution_count": 65,
     "metadata": {},
     "output_type": "execute_result"
    }
   ],
   "source": [
    "data"
   ]
  },
  {
   "cell_type": "markdown",
   "metadata": {},
   "source": [
    "### 2.5.2.3 总结\n",
    "\n",
    "存储机制的总结\n",
    "\n",
    "\n",
    "|格式|矩阵 * 向量|提取项目|灵活提取|设置项目|灵活设置|求解器|备注|\n",
    "|------|---------------|--------|---------|--------|---------|-------|----|\n",
    "|DIA|sparsetools|.|.|.|.|迭代|有数据数组，专门化|\n",
    "|LIL|通过 CSR|是|是|是|是|迭代|通过CSR的算术, 增量构建|\n",
    "|DOK|python|是|只有一个轴|是|是|迭代|`O(1)`条目访问, 增量构建|\n",
    "|COO|sparsetools|.|.|.|.|迭代|有数据数组, 便利的快速转换|\n",
    "|CSR|sparsetools|是|是|慢|.|任何|有数据数组, 快速以行为主的操作|\n",
    "|CSC|sparsetools|是|是|慢|.|任何|有数据数组, 快速以列为主的操作|\n",
    "|BSR|sparsetools|.|.|.|.|专门化|有数据数组，专门化|"
   ]
  },
  {
   "cell_type": "code",
   "execution_count": null,
   "metadata": {},
   "outputs": [],
   "source": []
  }
 ],
 "metadata": {
  "kernelspec": {
   "display_name": "Python 3",
   "language": "python",
   "name": "python3"
  },
  "language_info": {
   "codemirror_mode": {
    "name": "ipython",
    "version": 3
   },
   "file_extension": ".py",
   "mimetype": "text/x-python",
   "name": "python",
   "nbconvert_exporter": "python",
   "pygments_lexer": "ipython3",
   "version": "3.6.1"
  }
 },
 "nbformat": 4,
 "nbformat_minor": 2
}
